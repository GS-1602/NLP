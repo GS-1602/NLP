{
 "cells": [
  {
   "cell_type": "code",
   "execution_count": 1,
   "id": "48034ad6",
   "metadata": {},
   "outputs": [],
   "source": [
    "import numpy as np\n",
    "import pandas as pd\n",
    "import matplotlib.pyplot as plt\n",
    "import seaborn as sns\n",
    "import sklearn\n",
    "import nltk\n",
    "import string, re\n",
    "import gc # garbage collector to manage RAM usage\n",
    "from nltk.tokenize import TweetTokenizer\n",
    "from nltk.corpus import stopwords\n",
    "from nltk.stem import WordNetLemmatizer\n",
    "from sklearn.model_selection import train_test_split\n",
    "from sklearn.feature_extraction.text import CountVectorizer\n",
    "from sklearn.naive_bayes import MultinomialNB\n",
    "from sklearn.metrics import confusion_matrix, ConfusionMatrixDisplay, classification_report\n",
    "\n",
    "%matplotlib inline"
   ]
  },
  {
   "cell_type": "code",
   "execution_count": 2,
   "id": "ad1385c3",
   "metadata": {},
   "outputs": [
    {
     "data": {
      "text/html": [
       "<div>\n",
       "<style scoped>\n",
       "    .dataframe tbody tr th:only-of-type {\n",
       "        vertical-align: middle;\n",
       "    }\n",
       "\n",
       "    .dataframe tbody tr th {\n",
       "        vertical-align: top;\n",
       "    }\n",
       "\n",
       "    .dataframe thead th {\n",
       "        text-align: right;\n",
       "    }\n",
       "</style>\n",
       "<table border=\"1\" class=\"dataframe\">\n",
       "  <thead>\n",
       "    <tr style=\"text-align: right;\">\n",
       "      <th></th>\n",
       "      <th>id</th>\n",
       "      <th>label</th>\n",
       "      <th>tweet</th>\n",
       "    </tr>\n",
       "  </thead>\n",
       "  <tbody>\n",
       "    <tr>\n",
       "      <th>0</th>\n",
       "      <td>1</td>\n",
       "      <td>0</td>\n",
       "      <td>@user when a father is dysfunctional and is s...</td>\n",
       "    </tr>\n",
       "    <tr>\n",
       "      <th>1</th>\n",
       "      <td>2</td>\n",
       "      <td>0</td>\n",
       "      <td>@user @user thanks for #lyft credit i can't us...</td>\n",
       "    </tr>\n",
       "    <tr>\n",
       "      <th>2</th>\n",
       "      <td>3</td>\n",
       "      <td>0</td>\n",
       "      <td>bihday your majesty</td>\n",
       "    </tr>\n",
       "    <tr>\n",
       "      <th>3</th>\n",
       "      <td>4</td>\n",
       "      <td>0</td>\n",
       "      <td>#model   i love u take with u all the time in ...</td>\n",
       "    </tr>\n",
       "    <tr>\n",
       "      <th>4</th>\n",
       "      <td>5</td>\n",
       "      <td>0</td>\n",
       "      <td>factsguide: society now    #motivation</td>\n",
       "    </tr>\n",
       "  </tbody>\n",
       "</table>\n",
       "</div>"
      ],
      "text/plain": [
       "   id  label                                              tweet\n",
       "0   1      0   @user when a father is dysfunctional and is s...\n",
       "1   2      0  @user @user thanks for #lyft credit i can't us...\n",
       "2   3      0                                bihday your majesty\n",
       "3   4      0  #model   i love u take with u all the time in ...\n",
       "4   5      0             factsguide: society now    #motivation"
      ]
     },
     "execution_count": 2,
     "metadata": {},
     "output_type": "execute_result"
    }
   ],
   "source": [
    "# Read the training data csv\n",
    "tweets = pd.read_csv('train.csv')\n",
    "tweets.head()"
   ]
  },
  {
   "cell_type": "code",
   "execution_count": 3,
   "id": "91088207",
   "metadata": {},
   "outputs": [
    {
     "data": {
      "text/plain": [
       "0    29720\n",
       "1     2242\n",
       "Name: Label, dtype: int64"
      ]
     },
     "execution_count": 3,
     "metadata": {},
     "output_type": "execute_result"
    }
   ],
   "source": [
    "# Rename columns to avoid clashes with the words in vocab later\n",
    "tweets.rename(columns={'label':'Label', 'tweet':'Tweet'}, inplace=True)\n",
    "\n",
    "# Drop column 'id'\n",
    "tweets.drop(columns='id', inplace=True)\n",
    "\n",
    "# Check distribution of class of tweets\n",
    "tweets.Label.value_counts()"
   ]
  },
  {
   "cell_type": "code",
   "execution_count": 4,
   "id": "d310f8fd",
   "metadata": {},
   "outputs": [
    {
     "name": "stdout",
     "output_type": "stream",
     "text": [
      "25569\n",
      "6393\n"
     ]
    },
    {
     "data": {
      "text/html": [
       "<div>\n",
       "<style scoped>\n",
       "    .dataframe tbody tr th:only-of-type {\n",
       "        vertical-align: middle;\n",
       "    }\n",
       "\n",
       "    .dataframe tbody tr th {\n",
       "        vertical-align: top;\n",
       "    }\n",
       "\n",
       "    .dataframe thead th {\n",
       "        text-align: right;\n",
       "    }\n",
       "</style>\n",
       "<table border=\"1\" class=\"dataframe\">\n",
       "  <thead>\n",
       "    <tr style=\"text-align: right;\">\n",
       "      <th></th>\n",
       "      <th>Tweet</th>\n",
       "      <th>Label</th>\n",
       "    </tr>\n",
       "  </thead>\n",
       "  <tbody>\n",
       "    <tr>\n",
       "      <th>0</th>\n",
       "      <td>this is chess #mlittle801 #breezeslc #fitness ...</td>\n",
       "      <td>0</td>\n",
       "    </tr>\n",
       "    <tr>\n",
       "      <th>1</th>\n",
       "      <td>@user @user @user @user @user  i bet thats wh...</td>\n",
       "      <td>0</td>\n",
       "    </tr>\n",
       "    <tr>\n",
       "      <th>2</th>\n",
       "      <td>happiness is @user  so find your happiness tod...</td>\n",
       "      <td>0</td>\n",
       "    </tr>\n",
       "    <tr>\n",
       "      <th>3</th>\n",
       "      <td>@user &amp;lt;3 &amp;lt;3 listen to my most beautiful ...</td>\n",
       "      <td>0</td>\n",
       "    </tr>\n",
       "    <tr>\n",
       "      <th>4</th>\n",
       "      <td>free @user !! #jesuismilo   !!</td>\n",
       "      <td>0</td>\n",
       "    </tr>\n",
       "  </tbody>\n",
       "</table>\n",
       "</div>"
      ],
      "text/plain": [
       "                                               Tweet  Label\n",
       "0  this is chess #mlittle801 #breezeslc #fitness ...      0\n",
       "1   @user @user @user @user @user  i bet thats wh...      0\n",
       "2  happiness is @user  so find your happiness tod...      0\n",
       "3  @user &lt;3 &lt;3 listen to my most beautiful ...      0\n",
       "4                    free @user !! #jesuismilo   !!       0"
      ]
     },
     "execution_count": 4,
     "metadata": {},
     "output_type": "execute_result"
    }
   ],
   "source": [
    "# Split the original data into train and test data (80:20)\n",
    "X_train, X_test, y_train, y_test = train_test_split(tweets['Tweet'], tweets['Label'], test_size=0.2, stratify=tweets['Label'], random_state=1)\n",
    "\n",
    "# Combine the results into train and test dataframe\n",
    "tweets_train = pd.concat([X_train, y_train], axis=1).reset_index(drop=True)\n",
    "tweets_test = pd.concat([X_test, y_test], axis=1).reset_index(drop=True)\n",
    "\n",
    "print(len(tweets_train))\n",
    "print(len(tweets_test))\n",
    "tweets_train.head()"
   ]
  },
  {
   "cell_type": "code",
   "execution_count": 5,
   "id": "ade61f05",
   "metadata": {},
   "outputs": [],
   "source": [
    "# Function to tokenise a tweet\n",
    "def clean_tweet(tweet):\n",
    "    \"\"\"\n",
    "    Tokenize tweets into words. Convert texts to lower case.\n",
    "    Remove hashtags, punctuations, stopwords, website links, extra spaces, non-alphanumeric characters and \n",
    "    single character. Lemmatize texts.\n",
    "    \"\"\"\n",
    "    twt_tokenizer = TweetTokenizer(strip_handles=True) # remove username handles\n",
    "    tokens = [token for token in twt_tokenizer.tokenize(tweet)]\n",
    "    \n",
    "    # Combine stopwords and punctuation\n",
    "    stops = stopwords.words(\"english\") + list(string.punctuation)\n",
    "    \n",
    "    # Create lemmatizer\n",
    "    lemmatizer = WordNetLemmatizer()\n",
    "    \n",
    "    tokens_no_hashtag = [re.sub(r'#', '', token) for token in tokens]\n",
    "    tokens_no_stopwords = [token.lower() for token in tokens_no_hashtag if token.lower() not in stops]\n",
    "    tokens_no_url = [re.sub(r'http\\S+', '', token) for token in tokens_no_stopwords]\n",
    "    tokens_no_url = [re.sub(r'www\\S+', '', token) for token in tokens_no_url]\n",
    "    tokens_no_extra_space = [re.sub(r'\\s\\s+', '', token) for token in tokens_no_url]\n",
    "    tokens_alnum = [token for token in tokens_no_extra_space if token.isalnum()]\n",
    "    tokens_lemma = [lemmatizer.lemmatize(token) for token in tokens_alnum]\n",
    "    tokens_final = [token for token in tokens_lemma if len(token) > 1]\n",
    "    \n",
    "    return tokens_final"
   ]
  },
  {
   "cell_type": "code",
   "execution_count": 6,
   "id": "c2e55c94",
   "metadata": {},
   "outputs": [
    {
     "data": {
      "text/html": [
       "<div>\n",
       "<style scoped>\n",
       "    .dataframe tbody tr th:only-of-type {\n",
       "        vertical-align: middle;\n",
       "    }\n",
       "\n",
       "    .dataframe tbody tr th {\n",
       "        vertical-align: top;\n",
       "    }\n",
       "\n",
       "    .dataframe thead th {\n",
       "        text-align: right;\n",
       "    }\n",
       "</style>\n",
       "<table border=\"1\" class=\"dataframe\">\n",
       "  <thead>\n",
       "    <tr style=\"text-align: right;\">\n",
       "      <th></th>\n",
       "      <th>Tweet</th>\n",
       "      <th>Label</th>\n",
       "    </tr>\n",
       "  </thead>\n",
       "  <tbody>\n",
       "    <tr>\n",
       "      <th>0</th>\n",
       "      <td>[chess, mlittle801, breezeslc, fitness, nofilt...</td>\n",
       "      <td>0</td>\n",
       "    </tr>\n",
       "    <tr>\n",
       "      <th>1</th>\n",
       "      <td>[bet, thats, left, feeding, think, actually, b...</td>\n",
       "      <td>0</td>\n",
       "    </tr>\n",
       "    <tr>\n",
       "      <th>2</th>\n",
       "      <td>[happiness, find, happiness, today, happiness,...</td>\n",
       "      <td>0</td>\n",
       "    </tr>\n",
       "    <tr>\n",
       "      <th>3</th>\n",
       "      <td>[listen, beautiful, best, friend, singing, ama...</td>\n",
       "      <td>0</td>\n",
       "    </tr>\n",
       "    <tr>\n",
       "      <th>4</th>\n",
       "      <td>[free, jesuismilo]</td>\n",
       "      <td>0</td>\n",
       "    </tr>\n",
       "  </tbody>\n",
       "</table>\n",
       "</div>"
      ],
      "text/plain": [
       "                                               Tweet  Label\n",
       "0  [chess, mlittle801, breezeslc, fitness, nofilt...      0\n",
       "1  [bet, thats, left, feeding, think, actually, b...      0\n",
       "2  [happiness, find, happiness, today, happiness,...      0\n",
       "3  [listen, beautiful, best, friend, singing, ama...      0\n",
       "4                                 [free, jesuismilo]      0"
      ]
     },
     "execution_count": 6,
     "metadata": {},
     "output_type": "execute_result"
    }
   ],
   "source": [
    "# Apply the clean tweet function to the training set\n",
    "tweets_train['Tweet'] = tweets_train['Tweet'].apply(clean_tweet)\n",
    "tweets_train.head()"
   ]
  },
  {
   "cell_type": "code",
   "execution_count": 7,
   "id": "0d0ce897",
   "metadata": {},
   "outputs": [
    {
     "data": {
      "text/plain": [
       "<25569x33097 sparse matrix of type '<class 'numpy.int64'>'\n",
       "\twith 185565 stored elements in Compressed Sparse Row format>"
      ]
     },
     "execution_count": 7,
     "metadata": {},
     "output_type": "execute_result"
    }
   ],
   "source": [
    "# Combine all the tweets into a single list\n",
    "corpus = tweets_train['Tweet'].apply(lambda x:' '.join(x))\n",
    "\n",
    "# Fit CountVectorizer\n",
    "vectorizer = CountVectorizer()\n",
    "X_train_wc = vectorizer.fit_transform(corpus)\n",
    "X_train_wc"
   ]
  },
  {
   "cell_type": "markdown",
   "id": "18c50cf4",
   "metadata": {},
   "source": [
    "# Naive Bayes Model - Sklearn"
   ]
  },
  {
   "cell_type": "code",
   "execution_count": 8,
   "id": "229b514f",
   "metadata": {},
   "outputs": [],
   "source": [
    "# Convert y_train and y_test to array\n",
    "y_train = np.array(tweets_train['Label'])\n",
    "y_test = np.array(tweets_test['Label'])\n"
   ]
  },
  {
   "cell_type": "code",
   "execution_count": 9,
   "id": "490636f7",
   "metadata": {},
   "outputs": [],
   "source": [
    "# Create X_test_wc using sklearn CountVectorizer()\n",
    "corpus = tweets_test['Tweet'].apply(clean_tweet).apply(lambda x:' '.join(x))\n",
    "X_test_wc = vectorizer.transform(corpus)"
   ]
  },
  {
   "cell_type": "code",
   "execution_count": 10,
   "id": "6d7c3f8c",
   "metadata": {},
   "outputs": [
    {
     "name": "stdout",
     "output_type": "stream",
     "text": [
      "Shape of X_train: (25569, 33097)\n",
      "Shape of y_train: (25569,)\n",
      "Shape of X_test: (6393, 33097)\n",
      "Shape of y_test: (6393,)\n"
     ]
    }
   ],
   "source": [
    "# Ensure the shape of X, y in training and test set is correct\n",
    "print(\"Shape of X_train: {}\".format(X_train_wc.shape))\n",
    "print(\"Shape of y_train: {}\".format(y_train.shape))\n",
    "print(\"Shape of X_test: {}\".format(X_test_wc.shape))\n",
    "print(\"Shape of y_test: {}\".format(y_test.shape))"
   ]
  },
  {
   "cell_type": "code",
   "execution_count": 11,
   "id": "a7666db4",
   "metadata": {},
   "outputs": [
    {
     "data": {
      "text/plain": [
       "0.9594869388393555"
      ]
     },
     "execution_count": 11,
     "metadata": {},
     "output_type": "execute_result"
    }
   ],
   "source": [
    "# Naive Bayes classifier\n",
    "clf = MultinomialNB() # default smoothing parameter alpha=1\n",
    "\n",
    "# Train the Naive Bayes classifier on the training set\n",
    "clf.fit(X_train_wc, y_train)\n",
    "\n",
    "# Get the score for test set\n",
    "clf.score(X_test_wc, y_test)"
   ]
  },
  {
   "cell_type": "code",
   "execution_count": 12,
   "id": "1dec6dc0",
   "metadata": {},
   "outputs": [
    {
     "data": {
      "image/png": "[encoded data removed]",
      "text/plain": [
       "<Figure size 640x480 with 2 Axes>"
      ]
     },
     "metadata": {},
     "output_type": "display_data"
    }
   ],
   "source": [
    "# Generate confusion matrix plot\n",
    "y_pred = clf.predict(X_test_wc)\n",
    "cm = confusion_matrix(y_test, y_pred, labels=clf.classes_)\n",
    "disp = ConfusionMatrixDisplay(confusion_matrix=cm, display_labels=clf.classes_)\n",
    "disp.plot()\n",
    "plt.show()"
   ]
  },
  {
   "cell_type": "code",
   "execution_count": 13,
   "id": "a4e5ad4d",
   "metadata": {},
   "outputs": [],
   "source": [
    "def evaluate(confusion_matrix):\n",
    "    \"\"\"\n",
    "    Evaluate classification performance metrics based on a confusion\n",
    "    matrix.\n",
    "    Args:\n",
    "    confusion_matrix (list of lists): A 2x2 confusion matrix in the\n",
    "    following format:\n",
    "    [[true_negative, false_positive],\n",
    "    [false_negative, true_positive]]\n",
    "    Returns:\n",
    "    dict: A dictionary containing precision, recall, sensitivity,\n",
    "    specificity, accuracy, and F1-Score.\n",
    "    \"\"\"\n",
    "    \n",
    "    # Extract values from the confusion matrix\n",
    "    true_negative, false_positive = confusion_matrix[0][0], confusion_matrix[0][1] \n",
    "    false_negative, true_positive = confusion_matrix[1][0], confusion_matrix[1][1]\n",
    "    \n",
    "    # Calculate the metrics\n",
    "    \n",
    "    # 1.) Precision\n",
    "    precision = true_positive / (true_positive + false_positive)\n",
    "    \n",
    "    # 2.) Recall\n",
    "    recall = true_positive / (true_positive + false_negative)\n",
    "    \n",
    "    # 3.) Sensitivity\n",
    "    sensitivity = recall  # Sensitivity is the same as Recall\n",
    "    \n",
    "    # 4.) Specificity\n",
    "    specificity = true_negative / (true_negative + false_positive)\n",
    "    \n",
    "    # 5.) Accuracy\n",
    "    accuracy = (true_positive + true_negative) / (true_positive + true_negative + false_positive + false_negative)\n",
    "    \n",
    "    # 6.) F1 Score\n",
    "    f1_score = 2 * (precision * recall) / (precision + recall)\n",
    "\n",
    "    # Create a dictionary containing the metrics\n",
    "    metrics = {\n",
    "        'Precision': precision,\n",
    "        'Recall': recall,\n",
    "        'Sensitivity': sensitivity,\n",
    "        'Specificity': specificity,\n",
    "        'Accuracy': accuracy,\n",
    "        'F1-Score': f1_score\n",
    "    }\n",
    "\n",
    "    return metrics"
   ]
  },
  {
   "cell_type": "code",
   "execution_count": 14,
   "id": "61efa458",
   "metadata": {},
   "outputs": [
    {
     "data": {
      "text/plain": [
       "{'Precision': 0.8411552346570397,\n",
       " 'Recall': 0.5200892857142857,\n",
       " 'Sensitivity': 0.5200892857142857,\n",
       " 'Specificity': 0.9925988225399496,\n",
       " 'Accuracy': 0.9594869388393555,\n",
       " 'F1-Score': 0.6427586206896552}"
      ]
     },
     "execution_count": 14,
     "metadata": {},
     "output_type": "execute_result"
    }
   ],
   "source": [
    "evaluate(cm)"
   ]
  }
 ],
 "metadata": {
  "kernelspec": {
   "display_name": "Python 3 (ipykernel)",
   "language": "python",
   "name": "python3"
  },
  "language_info": {
   "codemirror_mode": {
    "name": "ipython",
    "version": 3
   },
   "file_extension": ".py",
   "mimetype": "text/x-python",
   "name": "python",
   "nbconvert_exporter": "python",
   "pygments_lexer": "ipython3",
   "version": "3.10.7"
  }
 },
 "nbformat": 4,
 "nbformat_minor": 5
}
