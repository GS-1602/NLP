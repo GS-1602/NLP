{
 "cells": [
  {
   "cell_type": "markdown",
   "id": "7a0141ab",
   "metadata": {},
   "source": [
    "## Prompt Engineering"
   ]
  },
  {
   "cell_type": "code",
   "execution_count": 1,
   "id": "55510b1a",
   "metadata": {},
   "outputs": [],
   "source": [
    "# %%capture\n",
    "# # update or install the necessary libraries\n",
    "# !pip install --upgrade openai\n",
    "# !pip install --upgrade langchain\n",
    "# !pip install --upgrade python-dotenv\n",
    "# !pip install serpapi\n",
    "# !pip install google-search-results"
   ]
  },
  {
   "cell_type": "code",
   "execution_count": 2,
   "id": "3f429912",
   "metadata": {},
   "outputs": [],
   "source": [
    "import os\n",
    "import IPython\n",
    "from langchain.llms import OpenAI\n",
    "from dotenv import load_dotenv"
   ]
  },
  {
   "cell_type": "code",
   "execution_count": 3,
   "id": "e423ee0d",
   "metadata": {},
   "outputs": [],
   "source": [
    "load_dotenv()\n",
    "\n",
    "# for LangChain\n",
    "os.environ[\"SERPER_API_KEY\"] = os.getenv(\"SERPER_API_KEY\")"
   ]
  },
  {
   "cell_type": "code",
   "execution_count": 19,
   "id": "9c61d15c",
   "metadata": {},
   "outputs": [],
   "source": [
    "def set_serpapi_params(query, language=\"en\", country=\"us\"):\n",
    "    \"\"\" Set SerpApi search parameters \"\"\"\n",
    "\n",
    "    serpapi_params = {\n",
    "        \"q\": query,\n",
    "        \"hl\": language,\n",
    "        \"gl\": country,\n",
    "        \"google_domain\": \"google.com\",\n",
    "        \"api_key\": os.getenv(\"SERPER_API_KEY\")\n",
    "    }\n",
    "\n",
    "    return serpapi_params\n",
    "\n",
    "def get_serpapi_results(params):\n",
    "    \"\"\" Perform SerpApi search and extract snippets \"\"\"\n",
    "\n",
    "    search = GoogleSearch(params)\n",
    "    results = search.get_dict()\n",
    "\n",
    "    # Check if there are organic results\n",
    "    if 'organic_results' in results and results['organic_results']:\n",
    "        # Extract snippets from all organic results\n",
    "        snippets = [result.get('snippet', 'No snippet found') for result in results['organic_results']]\n",
    "        return snippets\n",
    "    else:\n",
    "        return None"
   ]
  },
  {
   "cell_type": "code",
   "execution_count": 20,
   "id": "4b6cde25",
   "metadata": {},
   "outputs": [
    {
     "name": "stdout",
     "output_type": "stream",
     "text": [
      "Snippet 1: The sky is an unobstructed view upward from the surface of the Earth. It includes the atmosphere and outer space. It may also be considered a place between ...\n",
      "\n",
      "Snippet 2: \"The Sky Is a Neighborhood\" is a song by American rock band Foo Fighters. It was released as the second single from their ninth album Concrete and Gold on ...\n",
      "\n",
      "Snippet 3: Closer to the horizon, the sky fades to a lighter blue or white. The sunlight reaching us from the horizon has passed through even more air than the sunlight ...\n",
      "\n",
      "Snippet 4: The Short Answer: Sunlight reaches Earth's atmosphere and is scattered in all directions by all the gases and particles in the air. Blue light is scattered ...\n",
      "\n",
      "Snippet 5: A shy, teenage musician tries to keep things together in the aftermath of her older, more outgoing sister's death.A shy, teenage musician tries to keep things ...\n",
      "\n",
      "Snippet 6: It's a common misconception that the sky is blue because it reflects the blue of the seas and oceans. In fact, it's the Earth's atmosphere, and a process ...\n",
      "\n",
      "Snippet 7: Watch The Sky Is Everywhere, a coming-of-age romantic drama starring Grace Kaufman, Jacques Colimon, Jason Segel. Streaming on Apple TV+.\n",
      "\n",
      "Snippet 8: The sky is yours by The Wounded, released 01 September 2023 1. White spider 2. Dogs cry murder 3. Doomed youth 4. Bridge 5. Bricklayer 6.\n",
      "\n"
     ]
    }
   ],
   "source": [
    "# Example usage\n",
    "query = \"The sky is\"\n",
    "serpapi_params = set_serpapi_params(query)\n",
    "snippets = get_serpapi_results(serpapi_params)\n",
    "\n",
    "# Print snippets\n",
    "if snippets:\n",
    "    for i, snippet in enumerate(snippets, 1):\n",
    "        print(f\"Snippet {i}: {snippet}\")\n",
    "        print()\n",
    "else:\n",
    "    print(\"No organic results found.\")"
   ]
  },
  {
   "cell_type": "markdown",
   "id": "296058a9",
   "metadata": {},
   "source": [
    "### Text Summarization"
   ]
  },
  {
   "cell_type": "code",
   "execution_count": 21,
   "id": "1cf576b4",
   "metadata": {},
   "outputs": [
    {
     "name": "stdout",
     "output_type": "stream",
     "text": [
      "Snippet 1: Antibiotics are used to treat or prevent some types of bacterial infection. They kill bacteria or prevent them from reproducing and spreading.\n",
      "\n",
      "Snippet 2: Antibiotics are medicines that fight bacterial infections in people and animals. They work by killing the bacteria or by making it hard for the ...\n",
      "\n",
      "Snippet 3: What is an antibiotic? Antibiotics are medicines that fight infections caused by bacteria in humans and animals by either killing the bacteria or making it ...\n",
      "\n",
      "Snippet 4: Antibiotics are medications that fight bacterial infections. They don't work against viral infections like cold or flu. Bacteria are microscopic ...\n",
      "\n",
      "Snippet 5: Antibiotics are medications used to fight infections caused by bacteria. They're also called antibacterials. They treat infections by killing or decreasing ...\n",
      "\n",
      "Snippet 6: The first – and still most common – antibiotics come from fungi (e.g., penicillin) and specifically fight bacteria. Before the development of ...\n",
      "\n",
      "Snippet 7: Antibiotics are used to treat or prevent some types of bacterial infection. They work by killing bacteria or preventing them from spreading.\n",
      "\n",
      "Snippet 8: Antibiotics are medications that doctors may prescribe to treat bacterial infections. They work by killing bacteria and preventing them from multiplying.\n",
      "\n",
      "Snippet 9: Antibiotics are medicines that help stop infections caused by bacteria. They do this by killing the bacteria or by keeping them from copying ...\n",
      "\n",
      "Snippet 10: They are not effective against viral infections and most other infections. Antibiotics either kill bacteria or stop them from reproducing, allowing the body's ...\n",
      "\n"
     ]
    }
   ],
   "source": [
    "query = \"Antibiotics are a type of medication used to treat bacterial infections. They work by either killing the bacteria or preventing them from reproducing, allowing the body's immune system to fight off the infection. Antibiotics are usually taken orally in the form of pills, capsules, or liquid solutions, or sometimes administered intravenously. They are not effective against viral infections, and using them inappropriately can lead to antibiotic resistance. Explain the above in one sentence:\"\n",
    "serpapi_params = set_serpapi_params(query)\n",
    "snippets = get_serpapi_results(serpapi_params)\n",
    "\n",
    "# Print snippets\n",
    "if snippets:\n",
    "    for i, snippet in enumerate(snippets, 1):\n",
    "        print(f\"Snippet {i}: {snippet}\")\n",
    "        print()\n",
    "else:\n",
    "    print(\"No organic results found.\")"
   ]
  },
  {
   "cell_type": "markdown",
   "id": "bf991b64",
   "metadata": {},
   "source": [
    "### Question Answering"
   ]
  },
  {
   "cell_type": "code",
   "execution_count": 22,
   "id": "06c5da53",
   "metadata": {},
   "outputs": [
    {
     "name": "stdout",
     "output_type": "stream",
     "text": [
      "Snippet 1: Respond \"Unsure about answer\" if not sure about the answer. Context ... Teplizumab traces its roots to a New Jersey drug company called Ortho ...\n",
      "\n",
      "Snippet 2: CONTENT = \"\"\"Answer the question based on the context below. Keep the answer short and concise. Respond \\\"Unsure about answer\\\" if not sure about the answer.\n",
      "\n",
      "Snippet 3: ... Answer the question based on the context below. Keep the answer short and concise. Respond \"Unsure about answer\" if not sure about the answer. Context ...\n",
      "\n",
      "Snippet 4: Respond \"Unsure about answer\" if not sure about the answer. Context: Teplizumab traces its roots to a New Jersey drug company called Ortho Pharmaceutical.\n",
      "\n",
      "Snippet 5: Respond \"Unsure about answer\" if not sure about the answer. Context: Teplizumab traces its roots to a New Jersey drug company called Ortho Pharmaceutical. There ...\n",
      "\n",
      "Snippet 6: Respond \"Unsure about answer\" if not sure about the answer. Context: Teplizumab traces its roots to a New Jersey drug company called Ortho Pharmaceutical. There ...\n",
      "\n",
      "Snippet 7: Answer the question based on the context below. Keep the answer short. Respond \"Unsure about answer\" if not sure about the answer. Context ...\n",
      "\n",
      "Snippet 8: Keep the. answer short and concise. Respond \"Unsure about answer\" if not sure about the answer. Context: Teplizumab traces its roots to a New Jersey drug.\n",
      "\n",
      "Snippet 9: Respond \"Unsure about answer\" if not sure about the answer. Context ... Teplizumab traces its roots to a New Jersey drug company called Ortho ...\n",
      "\n",
      "Snippet 10: Respond \"Unsure about answer\" if not sure about the answer. Context: Teplizumab traces its roots to a New Jersey drug company called Ortho Pharmaceutical.\n",
      "\n"
     ]
    }
   ],
   "source": [
    "prompt = \"\"\"Answer the question based on the context below. Keep the answer short and concise. Respond \"Unsure about answer\" if not sure about the answer.\n",
    "\n",
    "Context: Teplizumab traces its roots to a New Jersey drug company called Ortho Pharmaceutical. There, scientists generated an early version of the antibody, dubbed OKT3. Originally sourced from mice, the molecule was able to bind to the surface of T cells and limit their cell-killing potential. In 1986, it was approved to help prevent organ rejection after kidney transplants, making it the first therapeutic antibody allowed for human use.\n",
    "\n",
    "Question: What was OKT3 originally sourced from?\n",
    "\n",
    "Answer:\"\"\"\n",
    "\n",
    "serpapi_params = set_serpapi_params(prompt)\n",
    "snippets = get_serpapi_results(serpapi_params)\n",
    "\n",
    "# Print snippets\n",
    "if snippets:\n",
    "    for i, snippet in enumerate(snippets, 1):\n",
    "        print(f\"Snippet {i}: {snippet}\")\n",
    "        print()\n",
    "else:\n",
    "    print(\"No organic results found.\")"
   ]
  },
  {
   "cell_type": "markdown",
   "id": "2ad39f0d",
   "metadata": {},
   "source": [
    "### Text Classification"
   ]
  },
  {
   "cell_type": "code",
   "execution_count": 23,
   "id": "f485c625",
   "metadata": {},
   "outputs": [
    {
     "name": "stdout",
     "output_type": "stream",
     "text": [
      "Snippet 1: Classify the text into neutral, negative or positive. Text: I think the vacation is okay. Sentiment: neutral Text: I think the food was okay. Sentiment:.\n",
      "\n",
      "Snippet 2: Sentiment analysis is the automatic process of analyzing text and detecting positive or negative opinions in customer feedback.\n",
      "\n",
      "Snippet 3: Sentiment Classification is taking lines of text as input and assigning them a category on the basis of the sentiment they reflect - Positive, ...\n",
      "\n",
      "Snippet 4: Sentiment analysis is the process of classifying whether a block of text is positive, negative, or, neutral. The goal which Sentiment analysis ...\n",
      "\n",
      "Snippet 5: I'm designing a text classifier in Python using NLTK. One of the features considered in every sentence is it's sentiment. I want to weight ...\n",
      "\n",
      "Snippet 6: It is essentially a multiclass text classification text where the given input text is classified into positive, neutral, or negative sentiment. The number ...\n",
      "\n",
      "Snippet 7: Sentiment analysis is used to determine whether a given text contains negative, positive, or neutral emotions. It's a form of text analytics that uses natural ...\n",
      "\n",
      "Snippet 8: The Text iQ model is trained on a large and diverse set of real experience data to substantially increase classification quality and minimize uncertainties when ...\n",
      "\n",
      "Snippet 9: Sentiment analysis is a way for organizations to learn what their customers think ... sentiment score to the text including positive, negative or neutral.\n",
      "\n",
      "Snippet 10: It is the process of classifying text as either positive, negative, or neutral. Machine learning techniques are used to evaluate a piece of text ...\n",
      "\n"
     ]
    }
   ],
   "source": [
    "prompt = \"\"\"Classify the text into neutral, negative or positive.\n",
    "\n",
    "Text: I think the food was okay.\n",
    "\n",
    "Sentiment:\"\"\"\n",
    "\n",
    "serpapi_params = set_serpapi_params(prompt)\n",
    "snippets = get_serpapi_results(serpapi_params)\n",
    "\n",
    "# Print snippets\n",
    "if snippets:\n",
    "    for i, snippet in enumerate(snippets, 1):\n",
    "        print(f\"Snippet {i}: {snippet}\")\n",
    "        print()\n",
    "else:\n",
    "    print(\"No organic results found.\")"
   ]
  },
  {
   "cell_type": "markdown",
   "id": "417f7315",
   "metadata": {},
   "source": [
    "### Role Playing"
   ]
  },
  {
   "cell_type": "code",
   "execution_count": 24,
   "id": "a54a8b36",
   "metadata": {},
   "outputs": [
    {
     "name": "stdout",
     "output_type": "stream",
     "text": [
      "Snippet 1: Human: Hello, who are you? AI: Greeting! I am an AI research assistant. How can I help you today? Human: Can you tell me about the creation of blackholes? AI:.\n",
      "\n",
      "Snippet 2: System: You an helpful AI assistent and you behave like an AI research assistant. You use a tone that is technical and scientific.\n",
      "\n",
      "Snippet 3: The assistant tone is technical and scientific. Human: Hello, who are you? AI: Greeting! I am an AI research assistant. How can I help you today ...\n",
      "\n",
      "Snippet 4: AI: Greeting! I am an AI research assistant. How can I help you today? Human: Can you tell me about the creation of black holes? AI: From ...\n",
      "\n",
      "Snippet 5: The assistant's tone is technical and scientific. Dialogue: Human: Hello, who are you? AI: Greetings! I am an AI research assistant. How can I ...\n",
      "\n",
      "Snippet 6: Prompt: The following is a conversation with an AI research assistant. The assistant's tone is technical and scientific. Human: Hello, who are ...\n",
      "\n",
      "Snippet 7: The following is a conversation with an AI assistant. The assistant is helpful, creative, clever, and very friendly. Human: Hello, who are you?\n",
      "\n",
      "Snippet 8: SYSTEM: You are an AI research assistant. You use a tone that is technical and scientific. USER: Hello, who are you? ASSISTANT: Greeting! I am ...\n",
      "\n",
      "Snippet 9: Human: Hello, who are you? AI: Greeting! I am an AI research assistant. How can. I help you today? Human: Can you tell me about the creation of blackholes? AI:.\n",
      "\n",
      "Snippet 10: ” Human: Hello, who are you? AI: Greetings! I am an AI research assistant. How can I help you today? Human: Can you tell me about the creation of black holes?\n",
      "\n"
     ]
    }
   ],
   "source": [
    "prompt = \"\"\"The following is a conversation with an AI research assistant. The assistant tone is technical and scientific.\n",
    "\n",
    "Human: Hello, who are you?\n",
    "AI: Greeting! I am an AI research assistant. How can I help you today?\n",
    "Human: Can you tell me about the creation of blackholes?\n",
    "AI:\"\"\"\n",
    "\n",
    "serpapi_params = set_serpapi_params(prompt)\n",
    "snippets = get_serpapi_results(serpapi_params)\n",
    "\n",
    "# Print snippets\n",
    "if snippets:\n",
    "    for i, snippet in enumerate(snippets, 1):\n",
    "        print(f\"Snippet {i}: {snippet}\")\n",
    "        print()\n",
    "else:\n",
    "    print(\"No organic results found.\")"
   ]
  },
  {
   "cell_type": "markdown",
   "id": "32ba1176",
   "metadata": {},
   "source": [
    "### Code Generation"
   ]
  },
  {
   "cell_type": "code",
   "execution_count": 25,
   "id": "b8c50aa1",
   "metadata": {},
   "outputs": [
    {
     "name": "stdout",
     "output_type": "stream",
     "text": [
      "Snippet 1: ... Table departments, columns = [DepartmentId, DepartmentName] Table students, columns = [DepartmentId, StudentId, StudentName] Create a MySQL query for all ...\n",
      "\n",
      "Snippet 2: ... Table departments, columns = [DepartmentId, DepartmentName] Table students, columns = [DepartmentId, StudentId, StudentName] Create a MySQL query for all ...\n",
      "\n",
      "Snippet 3: This guide covers the basics of prompts to provide a rough idea of how to use prompts to interact and instruct LLMs. All examples are tested ...\n",
      "\n",
      "Snippet 4: In this section, we will provide more examples of how prompts are used to achieve different tasks and introduce key concepts along the way. Often, the best way ...\n",
      "\n",
      "Snippet 5: ... Table departments, columns = [DepartmentId, DepartmentName]Table students, columns = [DepartmentId, StudentId, StudentName]Create a MySQL query ...\n",
      "\n",
      "Snippet 6: ... Table departments, columns = [DepartmentId, DepartmentName] Table students, columns = [DepartmentId, StudentId, StudentName] Create a MySQL ...\n",
      "\n",
      "Snippet 7: ... Table departments, columns = [DepartmentId, DepartmentName] Table students, columns = [DepartmentId, StudentId, StudentName] Create a MySQL ...\n",
      "\n",
      "Snippet 8: This guide covers the basics of standard prompts to provide a rough idea on how to use prompts to interact and instruct large language models ( ...\n",
      "\n",
      "Snippet 9: ... Table departments, columns = [DepartmentId, DepartmentName]Table students, columns = [DepartmentId, StudentId, StudentName]Create a MySQL query for all students ...\n",
      "\n"
     ]
    }
   ],
   "source": [
    "prompt = \"\\\"\\\"\\\"\\nTable departments, columns = [DepartmentId, DepartmentName]\\nTable students, columns = [DepartmentId, StudentId, StudentName]\\nCreate a MySQL query for all students in the Computer Science Department\\n\\\"\\\"\\\"\"\n",
    "\n",
    "serpapi_params = set_serpapi_params(prompt)\n",
    "snippets = get_serpapi_results(serpapi_params)\n",
    "\n",
    "# Print snippets\n",
    "if snippets:\n",
    "    for i, snippet in enumerate(snippets, 1):\n",
    "        print(f\"Snippet {i}: {snippet}\")\n",
    "        print()\n",
    "else:\n",
    "    print(\"No organic results found.\")"
   ]
  },
  {
   "cell_type": "markdown",
   "id": "3d4e7544",
   "metadata": {},
   "source": [
    "### Reasoning"
   ]
  },
  {
   "cell_type": "code",
   "execution_count": 26,
   "id": "9139a42c",
   "metadata": {},
   "outputs": [
    {
     "name": "stdout",
     "output_type": "stream",
     "text": [
      "Snippet 1: The odd numbers in this group add up to an even number 15 32 5 13 82 7 1.? ... Without breaking or bending a toothpick, you can spell the word, \" ...\n",
      "\n",
      "Snippet 2: The odd numbers in this group add up to an even number: 15, 32, 5, 13, 82, 7, 1 ... Answer. No one rated this answer yet — why not be the first?\n",
      "\n",
      "Snippet 3: The odd numbers in this group add up to an even number: 15, 32, 5, 13, 82, 7, 1. Solve by breaking the problem into steps. First, identify the odd numbers, add ...\n",
      "\n",
      "Snippet 4: Identify and explain the pattern of odd and even numbers in this sequence. ... When an even number is added, however, the sum either stays even or stays odd.\n",
      "\n",
      "Snippet 5: This math video tutorial provides a basic introduction into even and odd numbers.\n",
      "\n",
      "Snippet 6: The best videos and questions to learn about Problem-Solving Models. Get smarter on Socratic.\n",
      "\n",
      "Snippet 7: Even numbers are multiples of two and can be divided evenly, while odd numbers are not divisible evenly by two. You can easily identify whether a number is even ...\n",
      "\n",
      "Snippet 8: Determine whether a group of objects (up to 20) has an odd or even number of members, e.g., by pairing objects or counting them by 2s; write an equation to ...\n",
      "\n",
      "Snippet 9: the text. In the first five chapters of the series, students learn how to use the machine while reviewing basic operations with whole numbers, decimals ...\n",
      "\n"
     ]
    }
   ],
   "source": [
    "prompt = \"\"\"The odd numbers in this group add up to an even number: 15, 32, 5, 13, 82, 7, 1. \n",
    "\n",
    "Solve by breaking the problem into steps. First, identify the odd numbers, add them, and indicate whether the result is odd or even.\"\"\"\n",
    "\n",
    "serpapi_params = set_serpapi_params(prompt)\n",
    "snippets = get_serpapi_results(serpapi_params)\n",
    "\n",
    "# Print snippets\n",
    "if snippets:\n",
    "    for i, snippet in enumerate(snippets, 1):\n",
    "        print(f\"Snippet {i}: {snippet}\")\n",
    "        print()\n",
    "else:\n",
    "    print(\"No organic results found.\")"
   ]
  },
  {
   "cell_type": "markdown",
   "id": "2437d979",
   "metadata": {},
   "source": [
    "## Advanced Prompting Techniques"
   ]
  },
  {
   "cell_type": "markdown",
   "id": "5a820978",
   "metadata": {},
   "source": [
    "### Few Shots Prompting"
   ]
  },
  {
   "cell_type": "code",
   "execution_count": 27,
   "id": "f0558874",
   "metadata": {},
   "outputs": [
    {
     "name": "stdout",
     "output_type": "stream",
     "text": [
      "Snippet 1: The odd numbers in this group add up to an even number: 4, 8, 9, 15, 12, 2, 1. A: Adding all the odd numbers (9, 15, 1) gives 25. The answer is False.\n",
      "\n",
      "Snippet 2: The odd numbers in this group add up to an even number: 4, 8, 9, 15, 12, 2, 1. A: Adding all the odd numbers (9, 15, 1) gives 25. The answer is False. The odd ...\n",
      "\n",
      "Snippet 3: Prompt: The odd numbers in this group add up to an even number: 4, 8, 9, 15, 12, 2, 1. A: The answer is False.\n",
      "\n",
      "Snippet 4: A: Adding all the odd numbers (11, 13) gives 24. The answer is True. The odd numbers in this group add up to an even number: 17, 9, 10, 12, 13, ...\n",
      "\n",
      "Snippet 5: Addng a bunch of even numbers always gives you an even number (just divide each number by 2 to divide the total by 2). So we end up with an even ...\n",
      "\n",
      "Snippet 6: An even number is any number that is completely divisible by 2. Learn more about even numbers with concepts, definition, properties, and examples.\n",
      "\n",
      "Snippet 7: Odd numbers can NOT be divided evenly into groups of two. The number five can be divided into two groups of two and one group of one. Even numbers always end ...\n",
      "\n",
      "Snippet 8: Zero is even, and after that, odd and even numbers alternate. An even number can be written as the sum of two equal whole numbers. An even number has remainder ...\n",
      "\n",
      "Snippet 9: Final answer: The odd numbers in the group do not add up to an even number. Explanation: The odd numbers in the given group are: 15, 5, 13, 7, 1 ...\n",
      "\n",
      "Snippet 10: Therefore the sum of any two numbers, regardless of magnitude, both having an odd number as the one's digit, will result in an even number.\n",
      "\n"
     ]
    }
   ],
   "source": [
    "prompt = \"\"\"The odd numbers in this group add up to an even number: 4, 8, 9, 15, 12, 2, 1.\n",
    "A: The answer is False.\n",
    "\n",
    "The odd numbers in this group add up to an even number: 17,  10, 19, 4, 8, 12, 24.\n",
    "A: The answer is True.\n",
    "\n",
    "The odd numbers in this group add up to an even number: 16,  11, 14, 4, 8, 13, 24.\n",
    "A: The answer is True.\n",
    "\n",
    "The odd numbers in this group add up to an even number: 17,  9, 10, 12, 13, 4, 2.\n",
    "A: The answer is False.\n",
    "\n",
    "The odd numbers in this group add up to an even number: 15, 32, 5, 13, 82, 7, 1. \n",
    "A:\"\"\"\n",
    "\n",
    "serpapi_params = set_serpapi_params(prompt)\n",
    "snippets = get_serpapi_results(serpapi_params)\n",
    "\n",
    "# Print snippets\n",
    "if snippets:\n",
    "    for i, snippet in enumerate(snippets, 1):\n",
    "        print(f\"Snippet {i}: {snippet}\")\n",
    "        print()\n",
    "else:\n",
    "    print(\"No organic results found.\")"
   ]
  },
  {
   "cell_type": "markdown",
   "id": "e4d3bae8",
   "metadata": {},
   "source": [
    "### Chain-of-Thought (CoT) Prompting"
   ]
  },
  {
   "cell_type": "code",
   "execution_count": 28,
   "id": "175b94d3",
   "metadata": {},
   "outputs": [
    {
     "name": "stdout",
     "output_type": "stream",
     "text": [
      "Snippet 1: The odd numbers in this group add up to an even number: 4, 8, 9, 15, 12, 2, 1. A: Adding all the odd numbers (9, 15, 1) gives 25. The answer is False.\n",
      "\n",
      "Snippet 2: The odd numbers in this group add up to an even number: 4, 8, 9, 15, 12, 2, 1. A: Adding all the odd numbers (9, 15, 1) gives 25. The answer ...\n",
      "\n",
      "Snippet 3: Yes, the way this is done is to put all the odd numbers in one set and all the even numbers in another set, then come up with a 1 to 1 ...\n",
      "\n",
      "Snippet 4: Examples of even numbers are 2, 4, 6, 8, 10, 12, 14, 16, etc, and the examples of odd numbers are 1, 3, 5, 7, 9, 11, 13, 15, 17, etc.\n",
      "\n",
      "Snippet 5: A number that is divisible by 2 and generates a remainder of 0 is called an even number. Examples of even numbers are 2, 4, 6, 8, 10, etc. For example, assume ...\n",
      "\n",
      "Snippet 6: No, the sum of two even numbers is always even. is a factor of every even number. That means every even number can be written in the form ...\n",
      "\n",
      "Snippet 7: Final answer: The odd numbers in the group do not add up to an even number. Explanation: The odd numbers in the given group are: 15, 5, 13, 7, 1 ...\n",
      "\n",
      "Snippet 8: Zero is even, and after that, odd and even numbers alternate. An even number can be written as the sum of two equal whole numbers. An even number has remainder ...\n",
      "\n",
      "Snippet 9: Adding Two Odd Numbers​​ Any odd number added to another odd number always gives an even number. This statement is also proved below. Proof:\n",
      "\n"
     ]
    }
   ],
   "source": [
    "prompt = \"\"\"The odd numbers in this group add up to an even number: 4, 8, 9, 15, 12, 2, 1.\n",
    "A: Adding all the odd numbers (9, 15, 1) gives 25. The answer is False.\n",
    "\n",
    "The odd numbers in this group add up to an even number: 15, 32, 5, 13, 82, 7, 1. \n",
    "A:\"\"\"\n",
    "\n",
    "serpapi_params = set_serpapi_params(prompt)\n",
    "snippets = get_serpapi_results(serpapi_params)\n",
    "\n",
    "# Print snippets\n",
    "if snippets:\n",
    "    for i, snippet in enumerate(snippets, 1):\n",
    "        print(f\"Snippet {i}: {snippet}\")\n",
    "        print()\n",
    "else:\n",
    "    print(\"No organic results found.\")"
   ]
  },
  {
   "cell_type": "markdown",
   "id": "cdf4de62",
   "metadata": {},
   "source": [
    "### Zero-shot CoT"
   ]
  },
  {
   "cell_type": "code",
   "execution_count": 29,
   "id": "aeb7a9cf",
   "metadata": {},
   "outputs": [
    {
     "name": "stdout",
     "output_type": "stream",
     "text": [
      "Snippet 1: First, you started with 10 apples. You gave away 2 apples to the neighbor and 2 to the repairman, so you had 6 apples left. Then you bought 5 more apples, so ...\n",
      "\n",
      "Snippet 2: First, you started with 10 apples. You gave away 2 apples to the neighbor and 2 to the repairman, so you had 6 apples left. Then you bought 5 more apples, so ...\n",
      "\n",
      "Snippet 3: First, you started with 10 apples. You gave away 2 apples to the neighbor and 2 to the repairman, so you had 6 apples left. Then you bought 5 more apples, so ...\n",
      "\n",
      "Snippet 4: You started with 10 apples, gave away 2, and then bought 5 more. This means you had 10 - 2 + 5 = 13 apples. After eating one, you remained with ...\n",
      "\n",
      "Snippet 5: I gave 2 apples to the neighbor and 2 to the repairman. I then went and bought 5 more apples and ate 1. How many apples was I left with?\n",
      "\n",
      "Snippet 6: I gave 2 apples to the neighbor and 2 to the repairman. I then went and bought 5 more apples and ate 1. How many apples did I remain with?\n",
      "\n",
      "Snippet 7: Prompt: - I went to the market and bought 10 apples. I gave 2 apples to the neighbor and 2 to the repairman. I then went and bought 5 more apples and ate 1.\n",
      "\n",
      "Snippet 8: I gave 2 apples to the neighbor and 2 to the repairman. I then went and bought 5 more apples and ate 1. How many apples did I remain with?\n",
      "\n"
     ]
    }
   ],
   "source": [
    "prompt = \"\"\"I went to the market and bought 10 apples. I gave 2 apples to the neighbor and 2 to the repairman. I then went and bought 5 more apples and ate 1. How many apples did I remain with?\n",
    "\n",
    "Let's think step by step.\"\"\"\n",
    "\n",
    "serpapi_params = set_serpapi_params(prompt)\n",
    "snippets = get_serpapi_results(serpapi_params)\n",
    "\n",
    "# Print snippets\n",
    "if snippets:\n",
    "    for i, snippet in enumerate(snippets, 1):\n",
    "        print(f\"Snippet {i}: {snippet}\")\n",
    "        print()\n",
    "else:\n",
    "    print(\"No organic results found.\")"
   ]
  }
 ],
 "metadata": {
  "kernelspec": {
   "display_name": "Python 3 (ipykernel)",
   "language": "python",
   "name": "python3"
  },
  "language_info": {
   "codemirror_mode": {
    "name": "ipython",
    "version": 3
   },
   "file_extension": ".py",
   "mimetype": "text/x-python",
   "name": "python",
   "nbconvert_exporter": "python",
   "pygments_lexer": "ipython3",
   "version": "3.10.7"
  }
 },
 "nbformat": 4,
 "nbformat_minor": 5
}
