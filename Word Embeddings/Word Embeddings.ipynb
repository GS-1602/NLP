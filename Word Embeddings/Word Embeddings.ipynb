{
 "cells": [
  {
   "cell_type": "code",
   "execution_count": 1,
   "id": "71dc6cc0",
   "metadata": {},
   "outputs": [
    {
     "data": {
      "text/plain": [
       "(158314, 2)"
      ]
     },
     "execution_count": 1,
     "metadata": {},
     "output_type": "execute_result"
    }
   ],
   "source": [
    "import pandas as pd\n",
    "df = pd.read_csv('simpsons_dataset.csv')\n",
    "df.shape"
   ]
  },
  {
   "cell_type": "code",
   "execution_count": 2,
   "id": "7e6da637",
   "metadata": {},
   "outputs": [
    {
     "data": {
      "text/html": [
       "<div>\n",
       "<style scoped>\n",
       "    .dataframe tbody tr th:only-of-type {\n",
       "        vertical-align: middle;\n",
       "    }\n",
       "\n",
       "    .dataframe tbody tr th {\n",
       "        vertical-align: top;\n",
       "    }\n",
       "\n",
       "    .dataframe thead th {\n",
       "        text-align: right;\n",
       "    }\n",
       "</style>\n",
       "<table border=\"1\" class=\"dataframe\">\n",
       "  <thead>\n",
       "    <tr style=\"text-align: right;\">\n",
       "      <th></th>\n",
       "      <th>raw_character_text</th>\n",
       "      <th>spoken_words</th>\n",
       "    </tr>\n",
       "  </thead>\n",
       "  <tbody>\n",
       "    <tr>\n",
       "      <th>0</th>\n",
       "      <td>Miss Hoover</td>\n",
       "      <td>No, actually, it was a little of both. Sometim...</td>\n",
       "    </tr>\n",
       "    <tr>\n",
       "      <th>1</th>\n",
       "      <td>Lisa Simpson</td>\n",
       "      <td>Where's Mr. Bergstrom?</td>\n",
       "    </tr>\n",
       "    <tr>\n",
       "      <th>2</th>\n",
       "      <td>Miss Hoover</td>\n",
       "      <td>I don't know. Although I'd sure like to talk t...</td>\n",
       "    </tr>\n",
       "    <tr>\n",
       "      <th>3</th>\n",
       "      <td>Lisa Simpson</td>\n",
       "      <td>That life is worth living.</td>\n",
       "    </tr>\n",
       "    <tr>\n",
       "      <th>4</th>\n",
       "      <td>Edna Krabappel-Flanders</td>\n",
       "      <td>The polls will be open from now until the end ...</td>\n",
       "    </tr>\n",
       "  </tbody>\n",
       "</table>\n",
       "</div>"
      ],
      "text/plain": [
       "        raw_character_text                                       spoken_words\n",
       "0              Miss Hoover  No, actually, it was a little of both. Sometim...\n",
       "1             Lisa Simpson                             Where's Mr. Bergstrom?\n",
       "2              Miss Hoover  I don't know. Although I'd sure like to talk t...\n",
       "3             Lisa Simpson                         That life is worth living.\n",
       "4  Edna Krabappel-Flanders  The polls will be open from now until the end ..."
      ]
     },
     "execution_count": 2,
     "metadata": {},
     "output_type": "execute_result"
    }
   ],
   "source": [
    "df.head()"
   ]
  },
  {
   "cell_type": "code",
   "execution_count": 3,
   "id": "4a7df2d6",
   "metadata": {},
   "outputs": [
    {
     "data": {
      "text/plain": [
       "raw_character_text    17814\n",
       "spoken_words          26459\n",
       "dtype: int64"
      ]
     },
     "execution_count": 3,
     "metadata": {},
     "output_type": "execute_result"
    }
   ],
   "source": [
    "df.isnull().sum()"
   ]
  },
  {
   "cell_type": "code",
   "execution_count": 5,
   "id": "85bcb77c",
   "metadata": {},
   "outputs": [
    {
     "data": {
      "text/plain": [
       "raw_character_text    0\n",
       "spoken_words          0\n",
       "dtype: int64"
      ]
     },
     "execution_count": 5,
     "metadata": {},
     "output_type": "execute_result"
    }
   ],
   "source": [
    "df = df.dropna().reset_index(drop=True)\n",
    "df.isnull().sum()"
   ]
  },
  {
   "cell_type": "code",
   "execution_count": 37,
   "id": "f51b1980",
   "metadata": {},
   "outputs": [],
   "source": [
    "# !pip install spacy\n",
    "import spacy\n",
    "import re\n",
    "from time import time  # To time our operations\n",
    "from collections import defaultdict  # For word frequency"
   ]
  },
  {
   "cell_type": "code",
   "execution_count": 17,
   "id": "a9f22309",
   "metadata": {},
   "outputs": [],
   "source": [
    "# !spacy download en\n",
    "nlp = spacy.load('en_core_web_sm', disable=['ner', 'parser'])  # disabling Named Entity Recognition for speed\n",
    "\n",
    "def cleaning(doc):\n",
    "    # Lemmatizes and removes stopwords\n",
    "    # doc needs to be a spacy Doc object\n",
    "    txt = [token.lemma_ for token in doc if not token.is_stop]\n",
    "    # Word2Vec uses context words to learn the vector representation of a target word,\n",
    "    # if a sentence is only one or two words long,\n",
    "    # the benefit for the training is very small\n",
    "    if len(txt) > 2:\n",
    "        return ' '.join(txt)"
   ]
  },
  {
   "cell_type": "code",
   "execution_count": 18,
   "id": "6084dcb6",
   "metadata": {},
   "outputs": [],
   "source": [
    "brief_cleaning = (re.sub(\"[^A-Za-z']+\", ' ', str(row)).lower() for row in df['spoken_words'])"
   ]
  },
  {
   "cell_type": "code",
   "execution_count": 23,
   "id": "03f8ad64",
   "metadata": {},
   "outputs": [
    {
     "name": "stdout",
     "output_type": "stream",
     "text": [
      "Time to clean up everything: 5.01 mins\n"
     ]
    }
   ],
   "source": [
    "t = time()\n",
    "\n",
    "txt = [cleaning(doc) for doc in nlp.pipe(brief_cleaning, batch_size=5000, n_process=-1)]\n",
    "\n",
    "print('Time to clean up everything: {} mins'.format(round((time() - t) / 60, 2)))"
   ]
  },
  {
   "cell_type": "code",
   "execution_count": 24,
   "id": "e7d2f422",
   "metadata": {},
   "outputs": [
    {
     "data": {
      "text/plain": [
       "(85955, 1)"
      ]
     },
     "execution_count": 24,
     "metadata": {},
     "output_type": "execute_result"
    }
   ],
   "source": [
    "df_clean = pd.DataFrame({'clean': txt})\n",
    "df_clean = df_clean.dropna().drop_duplicates()\n",
    "df_clean.shape"
   ]
  },
  {
   "cell_type": "code",
   "execution_count": 27,
   "id": "1693ad1d",
   "metadata": {},
   "outputs": [
    {
     "data": {
      "text/html": [
       "<div>\n",
       "<style scoped>\n",
       "    .dataframe tbody tr th:only-of-type {\n",
       "        vertical-align: middle;\n",
       "    }\n",
       "\n",
       "    .dataframe tbody tr th {\n",
       "        vertical-align: top;\n",
       "    }\n",
       "\n",
       "    .dataframe thead th {\n",
       "        text-align: right;\n",
       "    }\n",
       "</style>\n",
       "<table border=\"1\" class=\"dataframe\">\n",
       "  <thead>\n",
       "    <tr style=\"text-align: right;\">\n",
       "      <th></th>\n",
       "      <th>clean</th>\n",
       "    </tr>\n",
       "  </thead>\n",
       "  <tbody>\n",
       "    <tr>\n",
       "      <th>0</th>\n",
       "      <td>actually little disease magazine news show nat...</td>\n",
       "    </tr>\n",
       "  </tbody>\n",
       "</table>\n",
       "</div>"
      ],
      "text/plain": [
       "                                               clean\n",
       "0  actually little disease magazine news show nat..."
      ]
     },
     "execution_count": 27,
     "metadata": {},
     "output_type": "execute_result"
    }
   ],
   "source": [
    "df_clean.head(1)"
   ]
  },
  {
   "cell_type": "code",
   "execution_count": 26,
   "id": "b4e10b95",
   "metadata": {},
   "outputs": [],
   "source": [
    "from gensim.models.phrases import Phrases, Phraser"
   ]
  },
  {
   "cell_type": "code",
   "execution_count": 28,
   "id": "90e70a87",
   "metadata": {},
   "outputs": [],
   "source": [
    "sent = [row.split() for row in df_clean['clean']]"
   ]
  },
  {
   "cell_type": "code",
   "execution_count": 29,
   "id": "c6cc7029",
   "metadata": {},
   "outputs": [],
   "source": [
    "phrases = Phrases(sent, min_count=30, progress_per=10000)"
   ]
  },
  {
   "cell_type": "code",
   "execution_count": 33,
   "id": "22c47026",
   "metadata": {},
   "outputs": [],
   "source": [
    "bigram = Phraser(phrases)"
   ]
  },
  {
   "cell_type": "code",
   "execution_count": 34,
   "id": "41bb5f56",
   "metadata": {},
   "outputs": [],
   "source": [
    "sentences = bigram[sent]"
   ]
  },
  {
   "cell_type": "code",
   "execution_count": 35,
   "id": "9589bf7e",
   "metadata": {},
   "outputs": [
    {
     "data": {
      "text/plain": [
       "29694"
      ]
     },
     "execution_count": 35,
     "metadata": {},
     "output_type": "execute_result"
    }
   ],
   "source": [
    "word_freq = defaultdict(int)\n",
    "for sent in sentences:\n",
    "    for i in sent:\n",
    "        word_freq[i] += 1\n",
    "len(word_freq)"
   ]
  },
  {
   "cell_type": "code",
   "execution_count": 38,
   "id": "4c5bed7f",
   "metadata": {},
   "outputs": [
    {
     "data": {
      "text/plain": [
       "['oh', 'like', 'know', 'get', 'hey', 'think', 'come', 'right', 'look', 'want']"
      ]
     },
     "execution_count": 38,
     "metadata": {},
     "output_type": "execute_result"
    }
   ],
   "source": [
    "sorted(word_freq, key=word_freq.get, reverse=True)[:10]"
   ]
  },
  {
   "cell_type": "code",
   "execution_count": 39,
   "id": "45ca0d2e",
   "metadata": {},
   "outputs": [],
   "source": [
    "import multiprocessing\n",
    "\n",
    "from gensim.models import Word2Vec"
   ]
  },
  {
   "cell_type": "code",
   "execution_count": 40,
   "id": "37da5cbd",
   "metadata": {},
   "outputs": [],
   "source": [
    "# import logging  # Setting up the loggings to monitor gensim\n",
    "# logging.basicConfig(format=\"%(levelname)s - %(asctime)s: %(message)s\", datefmt= '%H:%M:%S', level=logging.INFO)"
   ]
  },
  {
   "cell_type": "code",
   "execution_count": 43,
   "id": "03b1462a",
   "metadata": {},
   "outputs": [],
   "source": [
    "cores = multiprocessing.cpu_count() # Count the number of cores in a computer"
   ]
  },
  {
   "cell_type": "code",
   "execution_count": 46,
   "id": "3c493eab",
   "metadata": {},
   "outputs": [],
   "source": [
    "w2v_model = Word2Vec(min_count=20,\n",
    "                     window=2,\n",
    "                     vector_size=300,\n",
    "                     sample=6e-5, \n",
    "                     alpha=0.03, \n",
    "                     min_alpha=0.0007, \n",
    "                     negative=20,\n",
    "                     workers=cores-1)"
   ]
  },
  {
   "cell_type": "code",
   "execution_count": 47,
   "id": "8bfe4238",
   "metadata": {},
   "outputs": [
    {
     "name": "stdout",
     "output_type": "stream",
     "text": [
      "Time to build vocab: 0.03 mins\n"
     ]
    }
   ],
   "source": [
    "t = time()\n",
    "\n",
    "w2v_model.build_vocab(sentences, progress_per=10000)\n",
    "\n",
    "print('Time to build vocab: {} mins'.format(round((time() - t) / 60, 2)))"
   ]
  },
  {
   "cell_type": "code",
   "execution_count": 48,
   "id": "b4340b30",
   "metadata": {},
   "outputs": [
    {
     "name": "stdout",
     "output_type": "stream",
     "text": [
      "Time to train the model: 0.97 mins\n"
     ]
    }
   ],
   "source": [
    "t = time()\n",
    "\n",
    "w2v_model.train(sentences, total_examples=w2v_model.corpus_count, epochs=30, report_delay=1)\n",
    "\n",
    "print('Time to train the model: {} mins'.format(round((time() - t) / 60, 2)))"
   ]
  },
  {
   "cell_type": "code",
   "execution_count": 49,
   "id": "53a93ece",
   "metadata": {},
   "outputs": [
    {
     "data": {
      "text/plain": [
       "[('gee', 0.7153589725494385),\n",
       " ('marge', 0.6979920268058777),\n",
       " ('bongo', 0.6910498142242432),\n",
       " ('crummy', 0.6812360286712646),\n",
       " ('depressed', 0.6680043339729309),\n",
       " ('eliza', 0.666283130645752),\n",
       " ('humiliate', 0.6595591306686401),\n",
       " ('jealous', 0.659451961517334),\n",
       " ('sweetheart', 0.6584876179695129),\n",
       " ('apu', 0.6547217965126038)]"
      ]
     },
     "execution_count": 49,
     "metadata": {},
     "output_type": "execute_result"
    }
   ],
   "source": [
    "w2v_model.wv.most_similar(positive=[\"homer\"])"
   ]
  },
  {
   "cell_type": "code",
   "execution_count": 50,
   "id": "d7005b2b",
   "metadata": {},
   "outputs": [
    {
     "data": {
      "text/plain": [
       "[('council', 0.7028570175170898),\n",
       " ('easily', 0.6996117830276489),\n",
       " ('request', 0.6893356442451477),\n",
       " ('congratulation', 0.6825610995292664),\n",
       " ('select', 0.67575603723526),\n",
       " ('robert', 0.6755572557449341),\n",
       " ('recent', 0.6752681732177734),\n",
       " ('distract', 0.6732717752456665),\n",
       " ('threat', 0.6632421612739563),\n",
       " ('brief', 0.6559394598007202)]"
      ]
     },
     "execution_count": 50,
     "metadata": {},
     "output_type": "execute_result"
    }
   ],
   "source": [
    "w2v_model.wv.most_similar(positive=[\"homer_simpson\"])"
   ]
  },
  {
   "cell_type": "code",
   "execution_count": 51,
   "id": "ba8ccdd3",
   "metadata": {},
   "outputs": [
    {
     "data": {
      "text/plain": [
       "[('homie', 0.7007432579994202),\n",
       " ('homer', 0.6979919672012329),\n",
       " ('badly', 0.6776697635650635),\n",
       " ('snuggle', 0.664317786693573),\n",
       " ('darling', 0.6629724502563477),\n",
       " ('fault', 0.6514472365379333),\n",
       " ('attract', 0.6509073376655579),\n",
       " ('becky', 0.6501343846321106),\n",
       " ('grownup', 0.6469110250473022),\n",
       " ('humiliate', 0.6462141871452332)]"
      ]
     },
     "execution_count": 51,
     "metadata": {},
     "output_type": "execute_result"
    }
   ],
   "source": [
    "w2v_model.wv.most_similar(positive=[\"marge\"])"
   ]
  },
  {
   "cell_type": "code",
   "execution_count": 52,
   "id": "4b168b3d",
   "metadata": {},
   "outputs": [
    {
     "data": {
      "text/plain": [
       "[('lisa', 0.7634934186935425),\n",
       " ('hearing', 0.7606935501098633),\n",
       " ('mom', 0.7499101161956787),\n",
       " ('convince', 0.7304735779762268),\n",
       " ('mom_dad', 0.7213467955589294),\n",
       " ('chore', 0.7167285084724426),\n",
       " ('grownup', 0.7132783532142639),\n",
       " ('embarrassing', 0.712399423122406),\n",
       " ('homework', 0.7099063992500305),\n",
       " ('pay_attention', 0.6999633312225342)]"
      ]
     },
     "execution_count": 52,
     "metadata": {},
     "output_type": "execute_result"
    }
   ],
   "source": [
    "w2v_model.wv.most_similar(positive=[\"bart\"])"
   ]
  },
  {
   "cell_type": "code",
   "execution_count": 53,
   "id": "6f5a545a",
   "metadata": {},
   "outputs": [
    {
     "data": {
      "text/plain": [
       "0.6335378"
      ]
     },
     "execution_count": 53,
     "metadata": {},
     "output_type": "execute_result"
    }
   ],
   "source": [
    "w2v_model.wv.similarity('maggie', 'baby')"
   ]
  },
  {
   "cell_type": "code",
   "execution_count": 56,
   "id": "158a1007",
   "metadata": {},
   "outputs": [
    {
     "name": "stdout",
     "output_type": "stream",
     "text": [
      "Similarity Matrix:\n",
      "[[1.         0.63353783 0.64405817 0.38113958 0.18879312]\n",
      " [0.63353783 1.         0.3573063  0.33608314 0.27211371]\n",
      " [0.64405817 0.3573063  1.         0.53939742 0.25211039]\n",
      " [0.38113958 0.33608314 0.53939742 1.         0.1082247 ]\n",
      " [0.18879312 0.27211371 0.25211039 0.1082247  1.        ]]\n"
     ]
    }
   ],
   "source": [
    "import numpy as np\n",
    "\n",
    "# List of words to calculate similarity for\n",
    "words = ['maggie', 'baby', 'bart', 'nelson', 'tavern']\n",
    "\n",
    "# Initialize an empty similarity matrix\n",
    "similarity_matrix = np.zeros((len(words), len(words)))\n",
    "\n",
    "# Calculate similarity for each pair of words\n",
    "for i in range(len(words)):\n",
    "    for j in range(len(words)):\n",
    "        similarity = w2v_model.wv.similarity(words[i], words[j])\n",
    "        similarity_matrix[i][j] = similarity\n",
    "\n",
    "# Display the similarity matrix\n",
    "print(\"Similarity Matrix:\")\n",
    "print(similarity_matrix)"
   ]
  },
  {
   "cell_type": "code",
   "execution_count": 54,
   "id": "a34f3c3b",
   "metadata": {},
   "outputs": [
    {
     "data": {
      "text/plain": [
       "'nelson'"
      ]
     },
     "execution_count": 54,
     "metadata": {},
     "output_type": "execute_result"
    }
   ],
   "source": [
    "w2v_model.wv.doesnt_match([\"nelson\", \"bart\", \"milhouse\"])"
   ]
  },
  {
   "cell_type": "code",
   "execution_count": 55,
   "id": "e9d000c9",
   "metadata": {},
   "outputs": [
    {
     "data": {
      "text/plain": [
       "[('adopt', 0.5585996508598328),\n",
       " ('man', 0.5454488396644592),\n",
       " ('marry', 0.5428696870803833)]"
      ]
     },
     "execution_count": 55,
     "metadata": {},
     "output_type": "execute_result"
    }
   ],
   "source": [
    "w2v_model.wv.most_similar(positive=[\"woman\", \"homer\"], negative=[\"marge\"], topn=3)"
   ]
  },
  {
   "cell_type": "markdown",
   "id": "b9a47c3a",
   "metadata": {},
   "source": [
    "## Exercise"
   ]
  },
  {
   "cell_type": "code",
   "execution_count": 111,
   "id": "d6184d33",
   "metadata": {},
   "outputs": [],
   "source": [
    "import numpy as np\n",
    "import matplotlib.pyplot as plt\n",
    "from matplotlib import style"
   ]
  },
  {
   "cell_type": "code",
   "execution_count": 112,
   "id": "dc7360ab",
   "metadata": {},
   "outputs": [],
   "source": [
    "class Settings():\n",
    "    def __init__(self):\n",
    "        # Hyper Parameter\n",
    "        self.m = 3\n",
    "        self.d = 10\n",
    "        self.a = 0.01\n",
    "        self.epoch = 100\n",
    "        self.xmax = 1\n",
    "        self.f_a = 0.75"
   ]
  },
  {
   "cell_type": "code",
   "execution_count": 135,
   "id": "a569838a",
   "metadata": {
    "scrolled": true
   },
   "outputs": [],
   "source": [
    "class Data():\n",
    "\n",
    "    def __init__(self, settings):\n",
    "        self.m = settings.m\n",
    "        self.make_corpus()\n",
    "        self.co_occurrence_matrix()\n",
    "        \n",
    "    def make_corpus(self):\n",
    "        text = \"i love doing this project it is the thing which i enjoy the most\"\n",
    "        corpus = [text.split()]\n",
    "        self.corpus = corpus\n",
    "        \n",
    "    def preparation(self):\n",
    "        \"\"\" Making the frequency matrix\"\"\"\n",
    "        self.word_freq = defaultdict(int)\n",
    "        for sentence in self.corpus:\n",
    "            for word in sentence:\n",
    "                self.word_freq[word] += 1\n",
    "        \n",
    "        # self.words decide the index of all the words\n",
    "        self.words = list(self.word_freq.keys())\n",
    "        self.T = len(self.words)\n",
    "        \n",
    "        # word_index will give index for a given word and vice versa for index_word\n",
    "        self.word_index = {word: idx for idx, word in enumerate(self.words)}\n",
    "        self.index_word = {idx: word for idx, word in enumerate(self.words)}\n",
    "        \n",
    "    def co_occurrence_matrix(self):\n",
    "        \n",
    "        self.preparation()\n",
    "        # In X each word have a particular row and column according to their index.\n",
    "        # Xij - tabulate number of times word j appear in the contextof word i\n",
    "        self.X = np.zeros((self.T, self.T))\n",
    "        \n",
    "        for sentence in self.corpus:\n",
    "            \n",
    "            sen_len = len(sentence)\n",
    "            \n",
    "            for i, c_word in enumerate(sentence):\n",
    "                # target is the center word index\n",
    "                # context is the context word index\n",
    "                target = self.word_index[c_word]\n",
    "                \n",
    "                for j in range(max(0, i - self.m), min(sen_len, i + self.m + 1)):\n",
    "                    \n",
    "                    if j != i  and 0 <= j and j < sen_len:\n",
    "                        context_word = sentence[j]\n",
    "                        context = self.word_index[context_word]\n",
    "                        self.X[target, context] += 1"
   ]
  },
  {
   "cell_type": "code",
   "execution_count": 136,
   "id": "529f2c15",
   "metadata": {},
   "outputs": [],
   "source": [
    "class Model():\n",
    "    \n",
    "    def __init__(self, data, settings):\n",
    "        self.settings = settings\n",
    "        self.data = data\n",
    "        self.X = self.data.X\n",
    "        self.fun = np.vectorize(self.f)\n",
    "        self.plot_initialise()\n",
    "        self.prepare()\n",
    "        \n",
    "    def train(self):\n",
    "        loss_values = []  # Create a list to store loss values\n",
    "        # Iterating through the entire dataset epoch number of times\n",
    "        \n",
    "        for i in range(0, self.settings.epoch):\n",
    "            \n",
    "            delta = self.fun(self.X) * (self.U @ self.V - np.log(self.X + 1e-9))\n",
    "            U_grad = delta @ self.V.T\n",
    "            V_grad = self.U.T @ delta\n",
    "            U_grad[:, self.settings.d] = 0 \n",
    "            V_grad[self.settings.d, :] = 0\n",
    "            \n",
    "            # Updating U and V\n",
    "            self.U -= self.settings.a * U_grad\n",
    "            self.V -= self.settings.a * V_grad\n",
    "            \n",
    "            # Plotting Loss\n",
    "            self.update_loss()\n",
    "            loss_values.append(self.J)  # Append the current loss value\n",
    "            \n",
    "        # Plot with loss_values\n",
    "        self.plot(loss_values)\n",
    " \n",
    "    def prepare(self):\n",
    "        self.data.preparation()\n",
    "        self.U = np.random.uniform(-1, 1, (self.data.T, self.settings.d + 1))\n",
    "        self.V = np.random.uniform(-1, 1, (self.settings.d + 1, self.data.T))\n",
    "        for i in range(0, self.data.T):\n",
    "            self.U[i, self.settings.d] = 1\n",
    "            self.V[self.settings.d, i] = 1\n",
    "            \n",
    "    def f(self, x):\n",
    "        if x > self.settings.xmax:\n",
    "            return 1\n",
    "\n",
    "        else:\n",
    "            y = (x/self.settings.xmax)**self.settings.f_a\n",
    "            return y\n",
    "        \n",
    "    def update_loss(self):\n",
    "        J = self.fun(self.X) * ((self.U @ self.V - np.log(self.X + 1e-9)) ** 2)\n",
    "        self.J = J.sum() / 2\n",
    "    \n",
    "    def plot(self, loss_values):  # Update the function to accept loss_values\n",
    "        plt.plot(loss_values, label='Loss', color='red')\n",
    "        plt.xlabel('Number of iterations')\n",
    "        plt.ylabel('Loss')\n",
    "        plt.legend()\n",
    "        plt.pause(0.001)\n",
    "        plt.show()\n",
    "        \n",
    "    def plot_initialise(self):\n",
    "        \n",
    "        style.use('dark_background')\n",
    "        plt.figure()\n",
    "        plt.xlabel('Number of iterations')\n",
    "        plt.ylabel('Loss')\n",
    "        \n",
    "    def predict(self, word):\n",
    "        \n",
    "        index = self.data.word_index[word]\n",
    "        w = self.U[index, :] + self.V[:, index] # TODO: Fix the error\n",
    "        return w[1:-1] / 2"
   ]
  },
  {
   "cell_type": "code",
   "execution_count": 137,
   "id": "cb3e7fca",
   "metadata": {},
   "outputs": [
    {
     "data": {
      "image/png": "[encoded data removed]",
      "text/plain": [
       "<Figure size 640x480 with 1 Axes>"
      ]
     },
     "metadata": {},
     "output_type": "display_data"
    },
    {
     "data": {
      "image/png": "[encoded data removed]",
      "text/plain": [
       "<Figure size 640x480 with 1 Axes>"
      ]
     },
     "metadata": {},
     "output_type": "display_data"
    },
    {
     "data": {
      "image/png": "[encoded data removed]",
      "text/plain": [
       "<Figure size 640x480 with 1 Axes>"
      ]
     },
     "metadata": {},
     "output_type": "display_data"
    },
    {
     "data": {
      "image/png": "[encoded data removed]",
      "text/plain": [
       "<Figure size 640x480 with 1 Axes>"
      ]
     },
     "metadata": {},
     "output_type": "display_data"
    },
    {
     "data": {
      "image/png": "[encoded data removed]",
      "text/plain": [
       "<Figure size 640x480 with 1 Axes>"
      ]
     },
     "metadata": {},
     "output_type": "display_data"
    }
   ],
   "source": [
    "# Define a list of 5 different sets of hyperparameters\n",
    "hyperparameters = [\n",
    "    (3, 10, 0.01, 100, 1, 0.75),\n",
    "    (5, 20, 0.02, 150, 1.5, 0.8),\n",
    "    (2, 8, 0.005, 75, 0.8, 0.7),\n",
    "    (4, 15, 0.015, 120, 1.2, 0.85),\n",
    "    (6, 25, 0.03, 200, 1.8, 0.9)\n",
    "]\n",
    "\n",
    "# Create and train models for each set of hyperparameters in a for loop\n",
    "models = []\n",
    "\n",
    "for params in hyperparameters:\n",
    "    settings = Settings()\n",
    "    settings.m, settings.d, settings.a, settings.epoch, settings.xmax, settings.f_a = params\n",
    "    \n",
    "    data = Data(settings)\n",
    "    model = Model(data, settings)\n",
    "    model.train()\n",
    "    \n",
    "    models.append(model)\n"
   ]
  },
  {
   "cell_type": "code",
   "execution_count": 132,
   "id": "9a6fd014",
   "metadata": {
    "scrolled": true
   },
   "outputs": [
    {
     "name": "stdout",
     "output_type": "stream",
     "text": [
      "Enter the word whose vector you want to see.\n",
      "enjoy\n",
      "[ 0.13353718  0.37074838 -0.25067978  0.01935198  0.04351168  0.43397202\n",
      "  0.2791325  -0.23418195 -0.39819862 -0.39095124  0.29181828  0.72413725\n",
      " -0.02517261  0.44298799 -0.5223915   0.11401599  0.54330857 -0.22421488\n",
      " -0.66757631 -0.17081834 -0.85658533 -0.2621365  -0.09755256 -0.52093748]\n"
     ]
    }
   ],
   "source": [
    "word = input('Enter the word whose vector you want to see.\\n')\n",
    "print(model.predict(word))"
   ]
  }
 ],
 "metadata": {
  "kernelspec": {
   "display_name": "Python 3 (ipykernel)",
   "language": "python",
   "name": "python3"
  },
  "language_info": {
   "codemirror_mode": {
    "name": "ipython",
    "version": 3
   },
   "file_extension": ".py",
   "mimetype": "text/x-python",
   "name": "python",
   "nbconvert_exporter": "python",
   "pygments_lexer": "ipython3",
   "version": "3.10.7"
  }
 },
 "nbformat": 4,
 "nbformat_minor": 5
}
